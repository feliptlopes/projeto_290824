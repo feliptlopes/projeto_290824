{
 "cells": [
  {
   "cell_type": "markdown",
   "metadata": {},
   "source": [
    "Notebook"
   ]
  },
  {
   "cell_type": "code",
   "execution_count": 18,
   "metadata": {},
   "outputs": [
    {
     "name": "stdout",
     "output_type": "stream",
     "text": [
      "GCTA\n",
      "CGAT\n"
     ]
    }
   ],
   "source": [
    "def reverso(string):\n",
    "    string_reversa = string[::-1]\n",
    "    return string_reversa\n",
    "\n",
    "def reverso_complementar(string):\n",
    "    string_reversa = reverso(string)\n",
    "\n",
    "    decode = {\n",
    "        'A':'T',\n",
    "        'T':'A',\n",
    "        'C':'G',\n",
    "        'G':'C'\n",
    "    }\n",
    "\n",
    "    lista_reversa_complementar = []\n",
    "\n",
    "    for nuc in string_reversa:\n",
    "        lista_reversa_complementar.append(decode[nuc])\n",
    "    \n",
    "    string_reversa_complementar = ''.join(lista_reversa_complementar)\n",
    "    return string_reversa_complementar\n",
    "    \n",
    "    \n",
    "if __name__ == '__main__':\n",
    "    print(reverso('ATCG'))\n",
    "    print(reverso_complementar('ATCG'))"
   ]
  },
  {
   "cell_type": "code",
   "execution_count": null,
   "metadata": {},
   "outputs": [],
   "source": []
  }
 ],
 "metadata": {
  "kernelspec": {
   "display_name": "Python 3",
   "language": "python",
   "name": "python3"
  },
  "language_info": {
   "codemirror_mode": {
    "name": "ipython",
    "version": 3
   },
   "file_extension": ".py",
   "mimetype": "text/x-python",
   "name": "python",
   "nbconvert_exporter": "python",
   "pygments_lexer": "ipython3",
   "version": "3.12.4"
  }
 },
 "nbformat": 4,
 "nbformat_minor": 2
}
